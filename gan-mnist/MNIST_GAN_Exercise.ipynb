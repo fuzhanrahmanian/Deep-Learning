{
 "cells": [
  {
   "cell_type": "markdown",
   "metadata": {},
   "source": [
    "# Generative Adversarial Network\n",
    "\n",
    "In this notebook, the goal is  building a generative adversarial network (GAN) trained on the MNIST dataset. From this, we'll be able to generate new handwritten digits!\n",
    "\n",
    "GANs were [first reported on](https://arxiv.org/abs/1406.2661) in 2014 from Ian Goodfellow and others in Yoshua Bengio's lab. Since then, GANs have exploded in popularity. Here are a few examples to check out:\n",
    "\n",
    "* [Pix2Pix](https://affinelayer.com/pixsrv/) \n",
    "* [CycleGAN & Pix2Pix in PyTorch, Jun-Yan Zhu](https://github.com/junyanz/pytorch-CycleGAN-and-pix2pix)\n",
    "* [A list of generative models](https://github.com/wiseodd/generative-models)\n",
    "\n",
    "The idea behind GANs is that you have two networks, a generator $G$ and a discriminator $D$, competing against each other. The generator makes \"fake\" data to pass to the discriminator. The discriminator also sees real training data and predicts if the data it's received is real or fake. \n",
    "> * The generator is trained to fool the discriminator, it wants to output data that looks _as close as possible_ to real, training data. \n",
    "* The discriminator is a classifier that is trained to figure out which data is real and which is fake. \n",
    "\n",
    "What ends up happening is that the generator learns to make data that is indistinguishable from real data to the discriminator.\n",
    "\n",
    "<img src='assets/gan_pipeline.png' width=70% />\n",
    "\n",
    "The general structure of a GAN is shown in the diagram above, using MNIST images as data. The latent sample is a random vector that the generator uses to construct its fake images. This is often called a **latent vector** and that vector space is called **latent space**. As the generator trains, it figures out how to map latent vectors to recognizable images that can fool the discriminator.\n",
    "\n",
    "If you're interested in generating only new images, you can throw out the discriminator after training. In this notebook,you should define and train these adversarial networks in PyTorch and generate new images!"
   ]
  },
  {
   "cell_type": "code",
   "execution_count": 1,
   "metadata": {},
   "outputs": [],
   "source": [
    "%matplotlib inline\n",
    "\n",
    "import numpy as np\n",
    "import torch\n",
    "import matplotlib.pyplot as plt"
   ]
  },
  {
   "cell_type": "code",
   "execution_count": 2,
   "metadata": {},
   "outputs": [],
   "source": [
    "from torchvision import datasets\n",
    "import torchvision.transforms as transforms\n",
    "\n",
    "# number of subprocesses to use for data loading\n",
    "num_workers = 0\n",
    "# how many samples per batch to load\n",
    "batch_size = 64\n",
    "\n",
    "# convert data to torch.FloatTensor\n",
    "transform = transforms.ToTensor()\n",
    "\n",
    "# get the training datasets\n",
    "train_data = datasets.MNIST(root='data', train=True,\n",
    "                                   download=True, transform=transform)\n",
    "\n",
    "# prepare data loader\n",
    "train_loader = torch.utils.data.DataLoader(train_data, batch_size=batch_size,\n",
    "                                           num_workers=num_workers)"
   ]
  },
  {
   "cell_type": "markdown",
   "metadata": {},
   "source": [
    "### Visualize the data"
   ]
  },
  {
   "cell_type": "code",
   "execution_count": 3,
   "metadata": {},
   "outputs": [
    {
     "data": {
      "text/plain": [
       "<matplotlib.image.AxesImage at 0x7f8c677c55f8>"
      ]
     },
     "execution_count": 3,
     "metadata": {},
     "output_type": "execute_result"
    },
    {
     "data": {
      "image/png": "[encoded data removed]",
      "text/plain": [
       "<matplotlib.figure.Figure at 0x7f8c67804ef0>"
      ]
     },
     "metadata": {
      "needs_background": "light"
     },
     "output_type": "display_data"
    }
   ],
   "source": [
    "# obtain one batch of training images\n",
    "dataiter = iter(train_loader)\n",
    "images, labels = dataiter.next()\n",
    "images = images.numpy()\n",
    "\n",
    "# get one image from the batch\n",
    "img = np.squeeze(images[0])\n",
    "\n",
    "fig = plt.figure(figsize = (3,3)) \n",
    "ax = fig.add_subplot(111)\n",
    "ax.imshow(img, cmap='gray')"
   ]
  },
  {
   "cell_type": "markdown",
   "metadata": {},
   "source": [
    "---\n",
    "# Define the Model\n",
    "\n",
    "A GAN is comprised of two adversarial networks, a discriminator and a generator."
   ]
  },
  {
   "cell_type": "markdown",
   "metadata": {},
   "source": [
    "## Discriminator\n",
    "\n",
    "The discriminator network is going to be a pretty typical linear classifier. To make this network a universal function approximator, we'll need at least one hidden layer, and these hidden layers should have one key attribute:\n",
    "> All hidden layers will have a [Leaky ReLu](https://pytorch.org/docs/stable/nn.html#torch.nn.LeakyReLU) activation function applied to their outputs.\n",
    "\n",
    "<img src='assets/gan_network.png' width=70% />\n",
    "\n",
    "#### Leaky ReLu\n",
    "\n",
    "We should use a leaky ReLU to allow gradients to flow backwards through the layer unimpeded. A leaky ReLU is like a normal ReLU, except that there is a small non-zero output for negative input values.\n",
    "\n",
    "<img src='assets/leaky_relu.png' width=40% />\n",
    "\n",
    "#### Sigmoid Output\n",
    "\n",
    "We'll also take the approach of using a more numerically stable loss function on the outputs. Recall that we want the discriminator to output a value 0-1 indicating whether an image is _real or fake_. \n",
    "> We will ultimately use [BCEWithLogitsLoss](https://pytorch.org/docs/stable/nn.html#bcewithlogitsloss), which combines a `sigmoid` activation function **and** and binary cross entropy loss in one function. \n",
    "\n",
    "So, our final output layer should not have any activation function applied to it."
   ]
  },
  {
   "cell_type": "code",
   "execution_count": 4,
   "metadata": {},
   "outputs": [],
   "source": [
    "import torch.nn as nn\n",
    "import torch.nn.functional as F\n",
    "\n",
    "class Discriminator(nn.Module):\n",
    "\n",
    "    def __init__(self, input_size, hidden_dim, output_size):\n",
    "        super(Discriminator, self).__init__()\n",
    "        \n",
    "        # define hidden layers\n",
    "        self.fc1 = nn.Linear(input_size, hidden_dim*4)\n",
    "        self.fc2 = nn.Linear(hidden_dim*4, hidden_dim*2)\n",
    "        self.fc3 = nn.Linear(hidden_dim*2, hidden_dim)\n",
    "        #final fullz connected layer\n",
    "        self.fc4 = nn.Linear(hidden_dim, output_size)\n",
    "        \n",
    "        #dropout\n",
    "        self.dropout = nn.Dropout(0.3)\n",
    "         \n",
    "    def forward(self, x):\n",
    "        # flatten image\n",
    "        x = x.view(-1, 28*28)\n",
    "        \n",
    "        # pass x through hidden layers\n",
    "        # apply leaky relu activation to all hidden layers\n",
    "        x = F.leaky_relu(self.fc1(x), 0.3)  #(inputs, negative_slope = 0.2)\n",
    "        x = self.dropout(x)\n",
    "        \n",
    "        x = F.leaky_relu(self.fc2(x), 0.3)\n",
    "        x = self.dropout(x)\n",
    "        \n",
    "        x = F.leaky_relu(self.fc3(x), 0.3)\n",
    "        x = self.dropout(x)\n",
    "        \n",
    "        #final layer\n",
    "        x = self.fc4(x)\n",
    "\n",
    "        return x\n"
   ]
  },
  {
   "cell_type": "markdown",
   "metadata": {},
   "source": [
    "## Generator\n",
    "\n",
    "The generator network will be almost exactly the same as the discriminator network, except that we're applying a [tanh activation function](https://pytorch.org/docs/stable/nn.html#tanh) to our output layer.\n",
    "\n",
    "#### tanh Output\n",
    "The generator has been found to perform the best with $tanh$ for the generator output, which scales the output to be between -1 and 1, instead of 0 and 1. \n",
    "\n",
    "<img src='assets/tanh_fn.png' width=40% />\n",
    "\n",
    "Recall that we also want these outputs to be comparable to the *real* input pixel values, which are read in as normalized values between 0 and 1. \n",
    "> So, we'll also have to **scale our real input images to have pixel values between -1 and 1** when we train the discriminator. \n"
   ]
  },
  {
   "cell_type": "code",
   "execution_count": 5,
   "metadata": {},
   "outputs": [],
   "source": [
    "class Generator(nn.Module):\n",
    "\n",
    "    def __init__(self, input_size, hidden_dim, output_size):\n",
    "        super(Generator, self).__init__()\n",
    "        \n",
    "        # define all layers\n",
    "        self.fc1 =  nn.Linear(input_size, hidden_dim)\n",
    "        self.fc2 = nn.Linear(hidden_dim, hidden_dim*2)\n",
    "        self.fc3 = nn.Linear(hidden_dim*2, hidden_dim*4)\n",
    "        self.fc4 = nn.Linear(hidden_dim*4, output_size)\n",
    "        self.dropout = nn.Dropout(0.3)\n",
    "        \n",
    "\n",
    "    def forward(self, x):\n",
    "        # pass x through all layers\n",
    "        x = F.leaky_relu(self.fc1(x), 0.2)\n",
    "        x = self.dropout(x)\n",
    "        x = F.leaky_relu(self.fc2(x), 0.2)\n",
    "        x = self.dropout(x)\n",
    "        \n",
    "        x = F.leaky_relu(self.fc3(x), 0.2)\n",
    "        x = self.dropout(x)\n",
    "        # final layer should have tanh applied\n",
    "        out = F.tanh(self.fc4(x))\n",
    "        return out"
   ]
  },
  {
   "cell_type": "markdown",
   "metadata": {},
   "source": [
    "## Model hyperparameters"
   ]
  },
  {
   "cell_type": "code",
   "execution_count": 6,
   "metadata": {},
   "outputs": [],
   "source": [
    "# Discriminator hyperparams\n",
    "\n",
    "# Size of input image to discriminator (28*28)\n",
    "input_size = 784\n",
    "# Size of discriminator output (real or fake)\n",
    "d_output_size = 1\n",
    "# Size of *last* hidden layer in the discriminator\n",
    "d_hidden_size = 32\n",
    "\n",
    "# Generator hyperparams\n",
    "\n",
    "# Size of latent vector to give to generator\n",
    "z_size = 100\n",
    "# Size of discriminator output (generated image)\n",
    "g_output_size = 784\n",
    "# Size of *first* hidden layer in the generator\n",
    "g_hidden_size = 32"
   ]
  },
  {
   "cell_type": "markdown",
   "metadata": {},
   "source": [
    "## Build complete network\n",
    "\n",
    "Now we're instantiating the discriminator and generator from the classes defined above. Make sure you've passed in the correct input arguments."
   ]
  },
  {
   "cell_type": "code",
   "execution_count": 7,
   "metadata": {},
   "outputs": [
    {
     "name": "stdout",
     "output_type": "stream",
     "text": [
      "Discriminator(\n",
      "  (fc1): Linear(in_features=784, out_features=128, bias=True)\n",
      "  (fc2): Linear(in_features=128, out_features=64, bias=True)\n",
      "  (fc3): Linear(in_features=64, out_features=32, bias=True)\n",
      "  (fc4): Linear(in_features=32, out_features=1, bias=True)\n",
      "  (dropout): Dropout(p=0.3)\n",
      ")\n",
      "\n",
      "Generator(\n",
      "  (fc1): Linear(in_features=100, out_features=32, bias=True)\n",
      "  (fc2): Linear(in_features=32, out_features=64, bias=True)\n",
      "  (fc3): Linear(in_features=64, out_features=128, bias=True)\n",
      "  (fc4): Linear(in_features=128, out_features=784, bias=True)\n",
      "  (dropout): Dropout(p=0.3)\n",
      ")\n"
     ]
    }
   ],
   "source": [
    "# instantiate discriminator and generator\n",
    "D = Discriminator(input_size, d_hidden_size, d_output_size)\n",
    "G = Generator(z_size, g_hidden_size, g_output_size)\n",
    "\n",
    "# check that they are as you expect\n",
    "print(D)\n",
    "print()\n",
    "print(G)"
   ]
  },
  {
   "cell_type": "markdown",
   "metadata": {},
   "source": [
    "---\n",
    "## Discriminator and Generator Losses\n",
    "\n",
    "Now we need to calculate the losses. \n",
    "\n",
    "### Discriminator Losses\n",
    "\n",
    "> * For the discriminator, the total loss is the sum of the losses for real and fake images, `d_loss = d_real_loss + d_fake_loss`. \n",
    "* Remember that we want the discriminator to output 1 for real images and 0 for fake images, so we need to set up the losses to reflect that.\n",
    "\n",
    "<img src='assets/gan_pipeline.png' width=70% />\n",
    "\n",
    "The losses will by binary cross entropy loss with logits, which we can get with [BCEWithLogitsLoss](https://pytorch.org/docs/stable/nn.html#bcewithlogitsloss). This combines a `sigmoid` activation function **and** and binary cross entropy loss in one function.\n",
    "\n",
    "For the real images, we want `D(real_images) = 1`. That is, we want the discriminator to classify the the real images with a label = 1, indicating that these are real. To help the discriminator generalize better, the labels are **reduced a bit from 1.0 to 0.9**. For this, we'll use the parameter `smooth`; if True, then we should smooth our labels. In PyTorch, this looks like `labels = torch.ones(size) * 0.9`\n",
    "\n",
    "The discriminator loss for the fake data is similar. We want `D(fake_images) = 0`, where the fake images are the _generator output_, `fake_images = G(z)`. \n",
    "\n",
    "### Generator Loss\n",
    "\n",
    "The generator loss will look similar only with flipped labels. The generator's goal is to get `D(fake_images) = 1`. In this case, the labels are **flipped** to represent that the generator is trying to fool the discriminator into thinking that the images it generates (fakes) are real!"
   ]
  },
  {
   "cell_type": "code",
   "execution_count": 8,
   "metadata": {},
   "outputs": [],
   "source": [
    "# Calculate losses\n",
    "def real_loss(D_out, smooth=False):\n",
    "    # compare logits to real labels\n",
    "    # smooth labels if smooth=True\n",
    "    batch_size = D_out.size(0) #it would be one output for each batch , so we can get the size of the batches \n",
    "    if smooth:\n",
    "        labels = torch.ones(batch_size)*0.9\n",
    "    else:\n",
    "        labels = torch.ones(batch_size) #real label\n",
    "    criterion = nn.BCEWithLogitsLoss()\n",
    "    loss = criterion(D_out.squeeze(), labels)\n",
    "    \n",
    "    return loss\n",
    "\n",
    "def fake_loss(D_out):\n",
    "    # compare logits to fake labels\n",
    "    batch_size = D_out.size(0)\n",
    "    labels = torch.zeros(batch_size) #fake_labels = 0 \n",
    "    criterion = nn.BCEWithLogitsLoss()\n",
    "    loss = criterion(D_out.squeeze(), labels)\n",
    "    \n",
    "    return loss"
   ]
  },
  {
   "cell_type": "markdown",
   "metadata": {},
   "source": [
    "## Optimizers\n",
    "\n",
    "Update the generator and discriminator variables separately. So, define two separate Adam optimizers."
   ]
  },
  {
   "cell_type": "code",
   "execution_count": 9,
   "metadata": {
    "scrolled": true
   },
   "outputs": [],
   "source": [
    "import torch.optim as optim\n",
    "\n",
    "# learning rate for optimizers\n",
    "lr = 0.002\n",
    "\n",
    "# Create optimizers for the discriminator and generator\n",
    "d_optimizer = optim.Adam(D.parameters(), lr)\n",
    "g_optimizer = optim.Adam(G.parameters(), lr)"
   ]
  },
  {
   "cell_type": "markdown",
   "metadata": {},
   "source": [
    "---\n",
    "## Training\n",
    "\n",
    "Training will involve alternating between training the discriminator and the generator. We'll use our functions `real_loss` and `fake_loss` to help us calculate the discriminator losses in all of the following cases.\n",
    "\n",
    "### Discriminator training\n",
    "1. Compute the discriminator loss on real, training images        \n",
    "2. Generate fake images\n",
    "3. Compute the discriminator loss on fake, generated images     \n",
    "4. Add up real and fake loss\n",
    "5. Perform backpropagation + an optimization step to update the discriminator's weights\n",
    "\n",
    "### Generator training\n",
    "1. Generate fake images\n",
    "2. Compute the discriminator loss on fake images, using **flipped** labels!\n",
    "3. Perform backpropagation + an optimization step to update the generator's weights\n",
    "\n",
    "#### Saving Samples\n",
    "\n",
    "As we train, we'll also print out some loss statistics and save some generated \"fake\" samples."
   ]
  },
  {
   "cell_type": "code",
   "execution_count": 10,
   "metadata": {
    "scrolled": true
   },
   "outputs": [
    {
     "name": "stdout",
     "output_type": "stream",
     "text": [
      "Epoch [    1/  100] | d_loss: 1.4149 | g_loss: 0.6003\n",
      "Epoch [    1/  100] | d_loss: 0.9048 | g_loss: 3.2364\n",
      "Epoch [    1/  100] | d_loss: 1.3375 | g_loss: 0.8147\n",
      "Epoch [    2/  100] | d_loss: 0.7485 | g_loss: 2.8116\n",
      "Epoch [    2/  100] | d_loss: 1.3911 | g_loss: 0.9812\n",
      "Epoch [    2/  100] | d_loss: 1.1063 | g_loss: 1.8938\n",
      "Epoch [    3/  100] | d_loss: 1.2939 | g_loss: 2.1668\n",
      "Epoch [    3/  100] | d_loss: 1.8313 | g_loss: 0.5017\n",
      "Epoch [    3/  100] | d_loss: 1.2070 | g_loss: 1.6809\n",
      "Epoch [    4/  100] | d_loss: 1.5493 | g_loss: 0.9134\n",
      "Epoch [    4/  100] | d_loss: 1.6219 | g_loss: 0.9274\n",
      "Epoch [    4/  100] | d_loss: 1.1972 | g_loss: 1.0213\n",
      "Epoch [    5/  100] | d_loss: 1.5185 | g_loss: 0.8677\n",
      "Epoch [    5/  100] | d_loss: 1.3857 | g_loss: 0.9704\n",
      "Epoch [    5/  100] | d_loss: 1.0398 | g_loss: 1.7775\n",
      "Epoch [    6/  100] | d_loss: 1.3354 | g_loss: 0.9607\n",
      "Epoch [    6/  100] | d_loss: 1.3112 | g_loss: 1.3322\n",
      "Epoch [    6/  100] | d_loss: 1.4217 | g_loss: 0.8920\n",
      "Epoch [    7/  100] | d_loss: 1.5039 | g_loss: 0.7135\n",
      "Epoch [    7/  100] | d_loss: 1.2575 | g_loss: 1.1505\n",
      "Epoch [    7/  100] | d_loss: 1.4066 | g_loss: 1.0101\n",
      "Epoch [    8/  100] | d_loss: 1.4978 | g_loss: 0.9629\n",
      "Epoch [    8/  100] | d_loss: 1.7352 | g_loss: 1.4591\n",
      "Epoch [    8/  100] | d_loss: 1.2794 | g_loss: 1.2271\n",
      "Epoch [    9/  100] | d_loss: 1.3188 | g_loss: 1.1842\n",
      "Epoch [    9/  100] | d_loss: 1.4800 | g_loss: 1.0613\n",
      "Epoch [    9/  100] | d_loss: 1.5230 | g_loss: 0.8633\n",
      "Epoch [   10/  100] | d_loss: 1.2186 | g_loss: 2.4948\n",
      "Epoch [   10/  100] | d_loss: 1.2952 | g_loss: 1.2713\n",
      "Epoch [   10/  100] | d_loss: 1.4203 | g_loss: 0.8571\n",
      "Epoch [   11/  100] | d_loss: 1.3420 | g_loss: 0.8584\n",
      "Epoch [   11/  100] | d_loss: 1.4406 | g_loss: 1.0858\n",
      "Epoch [   11/  100] | d_loss: 1.5950 | g_loss: 1.6237\n",
      "Epoch [   12/  100] | d_loss: 1.3925 | g_loss: 0.9081\n",
      "Epoch [   12/  100] | d_loss: 0.9677 | g_loss: 1.2500\n",
      "Epoch [   12/  100] | d_loss: 1.8118 | g_loss: 0.9591\n",
      "Epoch [   13/  100] | d_loss: 1.3203 | g_loss: 1.6670\n",
      "Epoch [   13/  100] | d_loss: 1.0452 | g_loss: 2.2255\n",
      "Epoch [   13/  100] | d_loss: 1.1115 | g_loss: 2.6255\n",
      "Epoch [   14/  100] | d_loss: 0.9986 | g_loss: 5.4812\n",
      "Epoch [   14/  100] | d_loss: 1.1346 | g_loss: 2.4285\n",
      "Epoch [   14/  100] | d_loss: 0.4835 | g_loss: 8.1401\n",
      "Epoch [   15/  100] | d_loss: 0.6388 | g_loss: 5.3705\n",
      "Epoch [   15/  100] | d_loss: 0.8618 | g_loss: 3.2982\n",
      "Epoch [   15/  100] | d_loss: 1.0199 | g_loss: 2.2136\n",
      "Epoch [   16/  100] | d_loss: 1.0191 | g_loss: 1.3540\n",
      "Epoch [   16/  100] | d_loss: 0.7309 | g_loss: 3.2982\n",
      "Epoch [   16/  100] | d_loss: 1.0225 | g_loss: 2.1151\n",
      "Epoch [   17/  100] | d_loss: 1.2740 | g_loss: 1.0893\n",
      "Epoch [   17/  100] | d_loss: 1.1478 | g_loss: 1.5711\n",
      "Epoch [   17/  100] | d_loss: 1.2252 | g_loss: 1.2444\n",
      "Epoch [   18/  100] | d_loss: 1.1065 | g_loss: 1.4592\n",
      "Epoch [   18/  100] | d_loss: 1.0049 | g_loss: 1.7087\n",
      "Epoch [   18/  100] | d_loss: 1.0232 | g_loss: 1.3973\n",
      "Epoch [   19/  100] | d_loss: 1.2115 | g_loss: 1.6846\n",
      "Epoch [   19/  100] | d_loss: 1.1880 | g_loss: 1.2944\n",
      "Epoch [   19/  100] | d_loss: 1.0877 | g_loss: 1.2268\n",
      "Epoch [   20/  100] | d_loss: 1.1106 | g_loss: 1.3026\n",
      "Epoch [   20/  100] | d_loss: 1.1331 | g_loss: 1.3363\n",
      "Epoch [   20/  100] | d_loss: 1.3639 | g_loss: 0.8815\n",
      "Epoch [   21/  100] | d_loss: 1.3674 | g_loss: 1.0771\n",
      "Epoch [   21/  100] | d_loss: 1.2949 | g_loss: 1.0731\n",
      "Epoch [   21/  100] | d_loss: 1.3903 | g_loss: 0.9263\n",
      "Epoch [   22/  100] | d_loss: 1.3681 | g_loss: 0.8775\n",
      "Epoch [   22/  100] | d_loss: 1.3318 | g_loss: 0.9884\n",
      "Epoch [   22/  100] | d_loss: 1.3278 | g_loss: 0.9546\n",
      "Epoch [   23/  100] | d_loss: 1.4578 | g_loss: 1.2008\n",
      "Epoch [   23/  100] | d_loss: 1.3183 | g_loss: 0.9448\n",
      "Epoch [   23/  100] | d_loss: 1.3840 | g_loss: 0.8313\n",
      "Epoch [   24/  100] | d_loss: 1.3192 | g_loss: 0.9255\n",
      "Epoch [   24/  100] | d_loss: 1.2961 | g_loss: 0.9355\n",
      "Epoch [   24/  100] | d_loss: 1.4431 | g_loss: 0.8355\n",
      "Epoch [   25/  100] | d_loss: 1.3245 | g_loss: 0.8610\n",
      "Epoch [   25/  100] | d_loss: 1.0819 | g_loss: 1.2647\n",
      "Epoch [   25/  100] | d_loss: 1.4362 | g_loss: 0.9714\n",
      "Epoch [   26/  100] | d_loss: 1.2886 | g_loss: 0.9999\n",
      "Epoch [   26/  100] | d_loss: 1.1907 | g_loss: 0.9663\n",
      "Epoch [   26/  100] | d_loss: 1.4890 | g_loss: 0.9775\n",
      "Epoch [   27/  100] | d_loss: 1.3240 | g_loss: 0.8584\n",
      "Epoch [   27/  100] | d_loss: 1.3911 | g_loss: 0.9049\n",
      "Epoch [   27/  100] | d_loss: 1.3326 | g_loss: 1.1859\n",
      "Epoch [   28/  100] | d_loss: 1.3212 | g_loss: 0.9286\n",
      "Epoch [   28/  100] | d_loss: 1.2887 | g_loss: 1.1320\n",
      "Epoch [   28/  100] | d_loss: 1.3624 | g_loss: 1.0280\n",
      "Epoch [   29/  100] | d_loss: 1.3496 | g_loss: 0.8392\n",
      "Epoch [   29/  100] | d_loss: 1.3679 | g_loss: 0.9927\n",
      "Epoch [   29/  100] | d_loss: 1.4150 | g_loss: 0.8246\n",
      "Epoch [   30/  100] | d_loss: 1.3183 | g_loss: 0.9133\n",
      "Epoch [   30/  100] | d_loss: 1.2557 | g_loss: 1.0596\n",
      "Epoch [   30/  100] | d_loss: 1.3194 | g_loss: 1.0912\n",
      "Epoch [   31/  100] | d_loss: 1.3209 | g_loss: 0.8464\n",
      "Epoch [   31/  100] | d_loss: 1.2507 | g_loss: 1.0484\n",
      "Epoch [   31/  100] | d_loss: 1.3564 | g_loss: 0.9846\n",
      "Epoch [   32/  100] | d_loss: 1.2831 | g_loss: 1.0562\n",
      "Epoch [   32/  100] | d_loss: 1.2615 | g_loss: 0.9736\n",
      "Epoch [   32/  100] | d_loss: 1.4028 | g_loss: 1.1358\n",
      "Epoch [   33/  100] | d_loss: 1.2398 | g_loss: 0.9879\n",
      "Epoch [   33/  100] | d_loss: 1.2042 | g_loss: 1.0294\n",
      "Epoch [   33/  100] | d_loss: 1.2141 | g_loss: 1.0757\n",
      "Epoch [   34/  100] | d_loss: 1.3822 | g_loss: 0.9558\n",
      "Epoch [   34/  100] | d_loss: 1.3175 | g_loss: 0.8233\n",
      "Epoch [   34/  100] | d_loss: 1.3483 | g_loss: 0.9180\n",
      "Epoch [   35/  100] | d_loss: 1.3807 | g_loss: 1.3681\n",
      "Epoch [   35/  100] | d_loss: 1.3742 | g_loss: 0.9137\n",
      "Epoch [   35/  100] | d_loss: 1.2570 | g_loss: 0.9808\n",
      "Epoch [   36/  100] | d_loss: 1.3195 | g_loss: 1.0245\n",
      "Epoch [   36/  100] | d_loss: 1.2819 | g_loss: 0.8811\n",
      "Epoch [   36/  100] | d_loss: 1.4346 | g_loss: 0.9619\n",
      "Epoch [   37/  100] | d_loss: 1.3846 | g_loss: 0.8233\n",
      "Epoch [   37/  100] | d_loss: 1.1989 | g_loss: 1.0182\n",
      "Epoch [   37/  100] | d_loss: 1.3086 | g_loss: 1.0803\n",
      "Epoch [   38/  100] | d_loss: 1.2174 | g_loss: 1.1893\n",
      "Epoch [   38/  100] | d_loss: 1.2490 | g_loss: 0.9856\n",
      "Epoch [   38/  100] | d_loss: 1.3696 | g_loss: 0.9522\n",
      "Epoch [   39/  100] | d_loss: 1.2488 | g_loss: 1.0197\n",
      "Epoch [   39/  100] | d_loss: 1.2818 | g_loss: 1.0519\n",
      "Epoch [   39/  100] | d_loss: 1.3569 | g_loss: 1.3054\n",
      "Epoch [   40/  100] | d_loss: 1.3003 | g_loss: 1.1312\n",
      "Epoch [   40/  100] | d_loss: 1.3776 | g_loss: 1.0020\n",
      "Epoch [   40/  100] | d_loss: 1.3582 | g_loss: 1.1360\n",
      "Epoch [   41/  100] | d_loss: 1.3353 | g_loss: 0.9879\n",
      "Epoch [   41/  100] | d_loss: 1.1693 | g_loss: 1.2176\n",
      "Epoch [   41/  100] | d_loss: 1.3054 | g_loss: 1.1735\n",
      "Epoch [   42/  100] | d_loss: 1.2272 | g_loss: 1.1990\n",
      "Epoch [   42/  100] | d_loss: 1.2660 | g_loss: 0.9298\n",
      "Epoch [   42/  100] | d_loss: 1.3799 | g_loss: 0.9020\n",
      "Epoch [   43/  100] | d_loss: 1.2490 | g_loss: 1.0343\n",
      "Epoch [   43/  100] | d_loss: 1.2860 | g_loss: 1.0071\n",
      "Epoch [   43/  100] | d_loss: 1.2837 | g_loss: 1.0313\n",
      "Epoch [   44/  100] | d_loss: 1.2527 | g_loss: 0.9041\n",
      "Epoch [   44/  100] | d_loss: 1.3102 | g_loss: 1.0331\n",
      "Epoch [   44/  100] | d_loss: 1.1350 | g_loss: 1.2600\n",
      "Epoch [   45/  100] | d_loss: 1.3921 | g_loss: 1.0143\n",
      "Epoch [   45/  100] | d_loss: 1.1571 | g_loss: 1.3670\n",
      "Epoch [   45/  100] | d_loss: 1.4766 | g_loss: 0.9796\n",
      "Epoch [   46/  100] | d_loss: 1.2596 | g_loss: 0.8974\n",
      "Epoch [   46/  100] | d_loss: 1.3308 | g_loss: 0.9175\n",
      "Epoch [   46/  100] | d_loss: 1.2479 | g_loss: 1.5721\n",
      "Epoch [   47/  100] | d_loss: 1.3356 | g_loss: 1.1671\n",
      "Epoch [   47/  100] | d_loss: 1.3108 | g_loss: 1.0367\n",
      "Epoch [   47/  100] | d_loss: 1.3779 | g_loss: 1.2004\n",
      "Epoch [   48/  100] | d_loss: 1.2354 | g_loss: 1.3510\n",
      "Epoch [   48/  100] | d_loss: 1.3013 | g_loss: 0.9672\n",
      "Epoch [   48/  100] | d_loss: 1.4413 | g_loss: 0.9557\n",
      "Epoch [   49/  100] | d_loss: 1.3197 | g_loss: 1.0127\n",
      "Epoch [   49/  100] | d_loss: 1.2562 | g_loss: 1.1615\n",
      "Epoch [   49/  100] | d_loss: 1.4074 | g_loss: 0.9897\n",
      "Epoch [   50/  100] | d_loss: 1.2415 | g_loss: 0.9889\n",
      "Epoch [   50/  100] | d_loss: 1.1950 | g_loss: 1.1448\n",
      "Epoch [   50/  100] | d_loss: 1.3484 | g_loss: 0.9527\n",
      "Epoch [   51/  100] | d_loss: 1.2636 | g_loss: 1.1337\n",
      "Epoch [   51/  100] | d_loss: 1.2499 | g_loss: 0.8864\n",
      "Epoch [   51/  100] | d_loss: 1.2702 | g_loss: 1.0157\n",
      "Epoch [   52/  100] | d_loss: 1.2590 | g_loss: 1.0601\n",
      "Epoch [   52/  100] | d_loss: 1.2503 | g_loss: 0.9181\n",
      "Epoch [   52/  100] | d_loss: 1.3379 | g_loss: 0.9215\n",
      "Epoch [   53/  100] | d_loss: 1.2981 | g_loss: 1.0194\n",
      "Epoch [   53/  100] | d_loss: 1.2538 | g_loss: 0.9784\n",
      "Epoch [   53/  100] | d_loss: 1.3837 | g_loss: 0.9560\n",
      "Epoch [   54/  100] | d_loss: 1.2891 | g_loss: 1.0086\n",
      "Epoch [   54/  100] | d_loss: 1.2328 | g_loss: 0.9138\n",
      "Epoch [   54/  100] | d_loss: 1.3906 | g_loss: 0.9459\n",
      "Epoch [   55/  100] | d_loss: 1.2308 | g_loss: 0.9967\n",
      "Epoch [   55/  100] | d_loss: 1.3114 | g_loss: 1.0204\n",
      "Epoch [   55/  100] | d_loss: 1.4198 | g_loss: 1.0549\n",
      "Epoch [   56/  100] | d_loss: 1.2045 | g_loss: 1.4237\n",
      "Epoch [   56/  100] | d_loss: 1.3435 | g_loss: 0.8840\n",
      "Epoch [   56/  100] | d_loss: 1.3209 | g_loss: 1.1291\n",
      "Epoch [   57/  100] | d_loss: 1.3508 | g_loss: 0.9676\n",
      "Epoch [   57/  100] | d_loss: 1.2767 | g_loss: 1.2096\n",
      "Epoch [   57/  100] | d_loss: 1.3310 | g_loss: 0.9495\n",
      "Epoch [   58/  100] | d_loss: 1.3372 | g_loss: 0.9917\n",
      "Epoch [   58/  100] | d_loss: 1.2830 | g_loss: 0.9725\n",
      "Epoch [   58/  100] | d_loss: 1.3070 | g_loss: 0.9926\n",
      "Epoch [   59/  100] | d_loss: 1.2707 | g_loss: 1.1473\n",
      "Epoch [   59/  100] | d_loss: 1.2991 | g_loss: 1.0088\n",
      "Epoch [   59/  100] | d_loss: 1.3224 | g_loss: 0.9554\n",
      "Epoch [   60/  100] | d_loss: 1.3086 | g_loss: 0.8526\n",
      "Epoch [   60/  100] | d_loss: 1.2635 | g_loss: 1.2241\n",
      "Epoch [   60/  100] | d_loss: 1.3039 | g_loss: 1.0649\n",
      "Epoch [   61/  100] | d_loss: 1.3315 | g_loss: 0.9841\n",
      "Epoch [   61/  100] | d_loss: 1.2265 | g_loss: 1.1556\n",
      "Epoch [   61/  100] | d_loss: 1.3555 | g_loss: 0.8697\n",
      "Epoch [   62/  100] | d_loss: 1.3669 | g_loss: 1.0925\n",
      "Epoch [   62/  100] | d_loss: 1.2600 | g_loss: 0.9100\n",
      "Epoch [   62/  100] | d_loss: 1.3053 | g_loss: 1.0650\n",
      "Epoch [   63/  100] | d_loss: 1.3257 | g_loss: 0.9399\n",
      "Epoch [   63/  100] | d_loss: 1.3124 | g_loss: 0.9126\n",
      "Epoch [   63/  100] | d_loss: 1.3313 | g_loss: 0.9292\n",
      "Epoch [   64/  100] | d_loss: 1.3855 | g_loss: 0.8505\n",
      "Epoch [   64/  100] | d_loss: 1.2447 | g_loss: 0.8802\n",
      "Epoch [   64/  100] | d_loss: 1.3053 | g_loss: 1.0759\n",
      "Epoch [   65/  100] | d_loss: 1.2906 | g_loss: 1.1138\n",
      "Epoch [   65/  100] | d_loss: 1.3622 | g_loss: 1.3178\n",
      "Epoch [   65/  100] | d_loss: 1.3273 | g_loss: 1.0533\n",
      "Epoch [   66/  100] | d_loss: 1.2585 | g_loss: 0.9778\n",
      "Epoch [   66/  100] | d_loss: 1.3374 | g_loss: 1.1938\n",
      "Epoch [   66/  100] | d_loss: 1.4546 | g_loss: 0.9302\n",
      "Epoch [   67/  100] | d_loss: 1.2750 | g_loss: 0.9598\n",
      "Epoch [   67/  100] | d_loss: 1.3247 | g_loss: 0.9021\n",
      "Epoch [   67/  100] | d_loss: 1.3635 | g_loss: 0.9712\n",
      "Epoch [   68/  100] | d_loss: 1.3834 | g_loss: 0.9415\n",
      "Epoch [   68/  100] | d_loss: 1.3019 | g_loss: 0.8266\n",
      "Epoch [   68/  100] | d_loss: 1.4399 | g_loss: 1.0262\n",
      "Epoch [   69/  100] | d_loss: 1.3466 | g_loss: 0.9518\n",
      "Epoch [   69/  100] | d_loss: 1.2809 | g_loss: 0.9144\n",
      "Epoch [   69/  100] | d_loss: 1.4242 | g_loss: 1.0408\n",
      "Epoch [   70/  100] | d_loss: 1.2908 | g_loss: 1.0214\n",
      "Epoch [   70/  100] | d_loss: 1.1837 | g_loss: 1.0582\n",
      "Epoch [   70/  100] | d_loss: 1.2284 | g_loss: 1.0287\n",
      "Epoch [   71/  100] | d_loss: 1.3174 | g_loss: 0.8628\n",
      "Epoch [   71/  100] | d_loss: 1.2520 | g_loss: 0.9709\n",
      "Epoch [   71/  100] | d_loss: 1.3058 | g_loss: 1.2706\n",
      "Epoch [   72/  100] | d_loss: 1.1757 | g_loss: 1.0767\n",
      "Epoch [   72/  100] | d_loss: 1.3474 | g_loss: 1.0270\n",
      "Epoch [   72/  100] | d_loss: 1.3880 | g_loss: 0.9825\n",
      "Epoch [   73/  100] | d_loss: 1.3207 | g_loss: 1.3675\n",
      "Epoch [   73/  100] | d_loss: 1.3808 | g_loss: 0.8970\n",
      "Epoch [   73/  100] | d_loss: 1.3873 | g_loss: 1.0442\n",
      "Epoch [   74/  100] | d_loss: 1.3595 | g_loss: 0.8257\n",
      "Epoch [   74/  100] | d_loss: 1.2636 | g_loss: 1.2082\n",
      "Epoch [   74/  100] | d_loss: 1.3883 | g_loss: 1.0218\n",
      "Epoch [   75/  100] | d_loss: 1.1998 | g_loss: 1.1027\n",
      "Epoch [   75/  100] | d_loss: 1.3894 | g_loss: 0.8356\n",
      "Epoch [   75/  100] | d_loss: 1.2763 | g_loss: 0.8949\n",
      "Epoch [   76/  100] | d_loss: 1.2732 | g_loss: 1.0133\n",
      "Epoch [   76/  100] | d_loss: 1.2629 | g_loss: 1.0138\n",
      "Epoch [   76/  100] | d_loss: 1.5157 | g_loss: 0.8587\n",
      "Epoch [   77/  100] | d_loss: 1.2879 | g_loss: 0.9292\n",
      "Epoch [   77/  100] | d_loss: 1.1894 | g_loss: 1.0843\n",
      "Epoch [   77/  100] | d_loss: 1.3684 | g_loss: 0.9501\n",
      "Epoch [   78/  100] | d_loss: 1.3355 | g_loss: 1.0783\n",
      "Epoch [   78/  100] | d_loss: 1.3300 | g_loss: 0.9860\n",
      "Epoch [   78/  100] | d_loss: 1.3961 | g_loss: 0.8418\n",
      "Epoch [   79/  100] | d_loss: 1.3630 | g_loss: 0.9527\n",
      "Epoch [   79/  100] | d_loss: 1.3815 | g_loss: 0.8972\n",
      "Epoch [   79/  100] | d_loss: 1.2955 | g_loss: 1.0661\n",
      "Epoch [   80/  100] | d_loss: 1.2606 | g_loss: 1.1626\n",
      "Epoch [   80/  100] | d_loss: 1.2703 | g_loss: 1.0197\n",
      "Epoch [   80/  100] | d_loss: 1.3507 | g_loss: 1.1301\n",
      "Epoch [   81/  100] | d_loss: 1.2183 | g_loss: 1.0055\n",
      "Epoch [   81/  100] | d_loss: 1.2923 | g_loss: 0.8813\n",
      "Epoch [   81/  100] | d_loss: 1.4480 | g_loss: 0.9411\n",
      "Epoch [   82/  100] | d_loss: 1.3030 | g_loss: 0.8546\n",
      "Epoch [   82/  100] | d_loss: 1.1922 | g_loss: 1.0056\n",
      "Epoch [   82/  100] | d_loss: 1.4703 | g_loss: 1.0616\n",
      "Epoch [   83/  100] | d_loss: 1.3029 | g_loss: 1.0846\n",
      "Epoch [   83/  100] | d_loss: 1.2500 | g_loss: 1.0162\n",
      "Epoch [   83/  100] | d_loss: 1.4166 | g_loss: 0.8153\n",
      "Epoch [   84/  100] | d_loss: 1.3295 | g_loss: 1.1195\n",
      "Epoch [   84/  100] | d_loss: 1.2694 | g_loss: 0.9358\n",
      "Epoch [   84/  100] | d_loss: 1.2814 | g_loss: 1.0825\n",
      "Epoch [   85/  100] | d_loss: 1.3075 | g_loss: 0.9007\n",
      "Epoch [   85/  100] | d_loss: 1.3151 | g_loss: 0.9489\n",
      "Epoch [   85/  100] | d_loss: 1.3145 | g_loss: 1.0268\n",
      "Epoch [   86/  100] | d_loss: 1.3051 | g_loss: 1.0141\n",
      "Epoch [   86/  100] | d_loss: 1.1673 | g_loss: 1.2295\n",
      "Epoch [   86/  100] | d_loss: 1.4275 | g_loss: 0.9069\n",
      "Epoch [   87/  100] | d_loss: 1.3183 | g_loss: 0.9031\n",
      "Epoch [   87/  100] | d_loss: 1.2410 | g_loss: 0.9092\n",
      "Epoch [   87/  100] | d_loss: 1.4447 | g_loss: 0.9707\n",
      "Epoch [   88/  100] | d_loss: 1.2903 | g_loss: 0.9019\n",
      "Epoch [   88/  100] | d_loss: 1.2663 | g_loss: 1.1143\n",
      "Epoch [   88/  100] | d_loss: 1.3098 | g_loss: 0.9941\n",
      "Epoch [   89/  100] | d_loss: 1.3235 | g_loss: 0.8528\n",
      "Epoch [   89/  100] | d_loss: 1.3086 | g_loss: 0.8932\n",
      "Epoch [   89/  100] | d_loss: 1.3763 | g_loss: 1.0129\n",
      "Epoch [   90/  100] | d_loss: 1.2187 | g_loss: 1.0205\n",
      "Epoch [   90/  100] | d_loss: 1.2547 | g_loss: 0.8448\n",
      "Epoch [   90/  100] | d_loss: 1.2458 | g_loss: 1.0847\n",
      "Epoch [   91/  100] | d_loss: 1.2700 | g_loss: 1.6244\n",
      "Epoch [   91/  100] | d_loss: 1.3218 | g_loss: 0.9478\n",
      "Epoch [   91/  100] | d_loss: 1.4521 | g_loss: 0.7845\n",
      "Epoch [   92/  100] | d_loss: 1.2770 | g_loss: 0.9396\n",
      "Epoch [   92/  100] | d_loss: 1.3151 | g_loss: 1.0268\n",
      "Epoch [   92/  100] | d_loss: 1.3210 | g_loss: 0.9153\n",
      "Epoch [   93/  100] | d_loss: 1.2681 | g_loss: 0.9434\n",
      "Epoch [   93/  100] | d_loss: 1.1832 | g_loss: 1.0819\n",
      "Epoch [   93/  100] | d_loss: 1.1672 | g_loss: 1.1550\n",
      "Epoch [   94/  100] | d_loss: 1.3632 | g_loss: 1.0916\n",
      "Epoch [   94/  100] | d_loss: 1.3626 | g_loss: 0.9480\n",
      "Epoch [   94/  100] | d_loss: 1.3426 | g_loss: 1.1686\n",
      "Epoch [   95/  100] | d_loss: 1.2364 | g_loss: 1.2083\n",
      "Epoch [   95/  100] | d_loss: 1.3993 | g_loss: 0.9397\n",
      "Epoch [   95/  100] | d_loss: 1.3853 | g_loss: 0.9798\n",
      "Epoch [   96/  100] | d_loss: 1.3582 | g_loss: 0.8626\n",
      "Epoch [   96/  100] | d_loss: 1.3296 | g_loss: 0.9050\n",
      "Epoch [   96/  100] | d_loss: 1.2995 | g_loss: 1.0351\n",
      "Epoch [   97/  100] | d_loss: 1.3071 | g_loss: 1.0169\n",
      "Epoch [   97/  100] | d_loss: 1.2782 | g_loss: 0.9608\n",
      "Epoch [   97/  100] | d_loss: 1.3180 | g_loss: 1.0427\n",
      "Epoch [   98/  100] | d_loss: 1.2810 | g_loss: 1.1682\n",
      "Epoch [   98/  100] | d_loss: 1.3766 | g_loss: 0.9025\n",
      "Epoch [   98/  100] | d_loss: 1.3586 | g_loss: 0.9690\n",
      "Epoch [   99/  100] | d_loss: 1.2200 | g_loss: 1.0438\n",
      "Epoch [   99/  100] | d_loss: 1.3565 | g_loss: 0.9074\n",
      "Epoch [   99/  100] | d_loss: 1.4845 | g_loss: 0.9939\n",
      "Epoch [  100/  100] | d_loss: 1.3694 | g_loss: 1.0026\n",
      "Epoch [  100/  100] | d_loss: 1.3327 | g_loss: 0.7977\n",
      "Epoch [  100/  100] | d_loss: 1.4110 | g_loss: 1.0392\n"
     ]
    }
   ],
   "source": [
    "import pickle as pkl\n",
    "\n",
    "# training hyperparams\n",
    "num_epochs = 100\n",
    "\n",
    "# keep track of loss and generated, \"fake\" samples\n",
    "samples = []\n",
    "losses = []\n",
    "\n",
    "print_every = 400\n",
    "\n",
    "# Get some fixed data for sampling. These are images that are held\n",
    "# constant throughout training, and allow us to inspect the model's performance\n",
    "sample_size=16\n",
    "fixed_z = np.random.uniform(-1, 1, size=(sample_size, z_size))\n",
    "fixed_z = torch.from_numpy(fixed_z).float()\n",
    "\n",
    "# train the network\n",
    "D.train()\n",
    "G.train()\n",
    "for epoch in range(num_epochs):\n",
    "    \n",
    "    for batch_i, (real_images, _) in enumerate(train_loader):\n",
    "                \n",
    "        batch_size = real_images.size(0)\n",
    "        \n",
    "        ## Important rescaling step ## \n",
    "        real_images = real_images*2 - 1  # rescale input images from [0,1) to [-1, 1)\n",
    "        \n",
    "        # ============================================\n",
    "        #            TRAIN THE DISCRIMINATOR\n",
    "        # ============================================\n",
    "        d_optimizer.zero_grad()     \n",
    "        # 1. Train with real images\n",
    "\n",
    "        # Compute the discriminator losses on real images\n",
    "        # use smoothed labels\n",
    "        \n",
    "        D_real = D(real_images)\n",
    "        d_real_loss = real_loss(D_real, smooth = True)\n",
    "        \n",
    "        # 2. Train with fake images\n",
    "        \n",
    "        # Generate fake images\n",
    "        z = np.random.uniform(-1, 1, size=(batch_size, z_size))\n",
    "        z = torch.from_numpy(z).float()\n",
    "        fake_images = G(z)\n",
    "        \n",
    "        # Compute the discriminator losses on fake images   \n",
    "        D_fake = D(fake_images)\n",
    "        d_fake_loss = fake_loss(D_fake)\n",
    "        \n",
    "        # add up real and fake losses and perform backprop\n",
    "        d_loss = d_real_loss + d_fake_loss\n",
    "        d_loss.backward()\n",
    "        d_optimizer.step()\n",
    "        \n",
    "        \n",
    "        # =========================================\n",
    "        #            TRAIN THE GENERATOR\n",
    "        # =========================================\n",
    "        g_optimizer.zero_grad()\n",
    "        # 1. Train with fake images and flipped labels\n",
    "        \n",
    "        # Generate fake images\n",
    "        z = np.random.uniform(-1, 1, size = (batch_size, z_size))\n",
    "        z = torch.from_numpy(z).float()   #convert them to be float tensors that can passed to a generator\n",
    "        fake_images = G(z)\n",
    "        \n",
    "    \n",
    "        # Compute the discriminator losses on fake images \n",
    "        # using flipped labels!\n",
    "        D_fake = D(fake_images)\n",
    "        g_loss =  real_loss(D_fake) #use real loss to flip the labels #adverserial loss \n",
    "        # perform backprop\n",
    "        g_loss.backward()\n",
    "        g_optimizer.step()\n",
    "        \n",
    "        \n",
    "\n",
    "        # Print some loss stats\n",
    "        if batch_i % print_every == 0:\n",
    "            # print discriminator and generator loss\n",
    "            print('Epoch [{:5d}/{:5d}] | d_loss: {:6.4f} | g_loss: {:6.4f}'.format(\n",
    "                    epoch+1, num_epochs, d_loss.item(), g_loss.item()))\n",
    "\n",
    "    \n",
    "    ## AFTER EACH EPOCH##\n",
    "    # append discriminator loss and generator loss\n",
    "    losses.append((d_loss.item(), g_loss.item()))\n",
    "    \n",
    "    # generate and save sample, fake images\n",
    "    G.eval() # eval mode for generating samples\n",
    "    samples_z = G(fixed_z)\n",
    "    samples.append(samples_z)\n",
    "    G.train() # back to train mode\n",
    "\n",
    "\n",
    "# Save training generator samples\n",
    "with open('train_samples.pkl', 'wb') as f:\n",
    "    pkl.dump(samples, f)"
   ]
  },
  {
   "cell_type": "markdown",
   "metadata": {},
   "source": [
    "## Training loss\n",
    "\n",
    "Plot the training losses for the generator and discriminator, recorded after each epoch."
   ]
  },
  {
   "cell_type": "code",
   "execution_count": 11,
   "metadata": {},
   "outputs": [
    {
     "data": {
      "text/plain": [
       "<matplotlib.legend.Legend at 0x7f8c5e175ac8>"
      ]
     },
     "execution_count": 11,
     "metadata": {},
     "output_type": "execute_result"
    },
    {
     "data": {
      "image/png": "[encoded data removed]",
      "text/plain": [
       "<matplotlib.figure.Figure at 0x7f8c677b1828>"
      ]
     },
     "metadata": {
      "needs_background": "light"
     },
     "output_type": "display_data"
    }
   ],
   "source": [
    "fig, ax = plt.subplots()\n",
    "losses = np.array(losses)\n",
    "plt.plot(losses.T[0], label='Discriminator')\n",
    "plt.plot(losses.T[1], label='Generator')\n",
    "plt.title(\"Training Losses\")\n",
    "plt.legend()"
   ]
  },
  {
   "cell_type": "markdown",
   "metadata": {},
   "source": [
    "## Generator samples from training\n",
    "\n",
    "Here we can view samples of images from the generator. First we'll look at the images we saved during training."
   ]
  },
  {
   "cell_type": "code",
   "execution_count": 12,
   "metadata": {},
   "outputs": [],
   "source": [
    "# helper function for viewing a list of passed in sample images\n",
    "def view_samples(epoch, samples):\n",
    "    fig, axes = plt.subplots(figsize=(7,7), nrows=4, ncols=4, sharey=True, sharex=True)\n",
    "    for ax, img in zip(axes.flatten(), samples[epoch]):\n",
    "        img = img.detach()\n",
    "        ax.xaxis.set_visible(False)\n",
    "        ax.yaxis.set_visible(False)\n",
    "        im = ax.imshow(img.reshape((28,28)), cmap='Greys_r')"
   ]
  },
  {
   "cell_type": "code",
   "execution_count": 13,
   "metadata": {},
   "outputs": [],
   "source": [
    "# Load samples from generator, taken while training\n",
    "with open('train_samples.pkl', 'rb') as f:\n",
    "    samples = pkl.load(f)"
   ]
  },
  {
   "cell_type": "markdown",
   "metadata": {},
   "source": [
    "These are samples from the final training epoch. You can see the generator is able to reproduce numbers like 1, 7, 3, 2. Since this is just a sample, it isn't representative of the full range of images this generator can make."
   ]
  },
  {
   "cell_type": "code",
   "execution_count": 14,
   "metadata": {},
   "outputs": [
    {
     "data": {
      "image/png": "[encoded data removed]",
      "text/plain": [
       "<matplotlib.figure.Figure at 0x7f8c5c7d2da0>"
      ]
     },
     "metadata": {
      "needs_background": "light"
     },
     "output_type": "display_data"
    }
   ],
   "source": [
    "# -1 indicates final epoch's samples (the last in the list)\n",
    "view_samples(-1, samples)"
   ]
  },
  {
   "cell_type": "markdown",
   "metadata": {},
   "source": [
    "Below I'm showing the generated images as the network was training, every 10 epochs."
   ]
  },
  {
   "cell_type": "code",
   "execution_count": 15,
   "metadata": {},
   "outputs": [
    {
     "data": {
      "image/png": "[encoded data removed]",
      "text/plain": [
       "<matplotlib.figure.Figure at 0x7f8c5e0fb668>"
      ]
     },
     "metadata": {
      "needs_background": "light"
     },
     "output_type": "display_data"
    }
   ],
   "source": [
    "rows = 10 # split epochs into 10, so 100/10 = every 10 epochs\n",
    "cols = 6\n",
    "fig, axes = plt.subplots(figsize=(7,12), nrows=rows, ncols=cols, sharex=True, sharey=True)\n",
    "\n",
    "for sample, ax_row in zip(samples[::int(len(samples)/rows)], axes):\n",
    "    for img, ax in zip(sample[::int(len(sample)/cols)], ax_row):\n",
    "        img = img.detach()\n",
    "        ax.imshow(img.reshape((28,28)), cmap='Greys_r')\n",
    "        ax.xaxis.set_visible(False)\n",
    "        ax.yaxis.set_visible(False)"
   ]
  },
  {
   "cell_type": "markdown",
   "metadata": {},
   "source": [
    "It starts out as all noise. Then it learns to make only the center white and the rest black. You can start to see some number like structures appear out of the noise like 1s and 9s."
   ]
  },
  {
   "cell_type": "markdown",
   "metadata": {},
   "source": [
    "## Sampling from the generator\n",
    "\n",
    "We can also get completely new images from the generator by using the checkpoint we saved after training. **We just need to pass in a new latent vector $z$ and we'll get new samples**!"
   ]
  },
  {
   "cell_type": "code",
   "execution_count": 16,
   "metadata": {},
   "outputs": [
    {
     "data": {
      "image/png": "[encoded data removed]",
      "text/plain": [
       "<matplotlib.figure.Figure at 0x7f8c5e082ac8>"
      ]
     },
     "metadata": {
      "needs_background": "light"
     },
     "output_type": "display_data"
    }
   ],
   "source": [
    "# randomly generated, new latent vectors\n",
    "sample_size=16\n",
    "rand_z = np.random.uniform(-1, 1, size=(sample_size, z_size))\n",
    "rand_z = torch.from_numpy(rand_z).float()\n",
    "\n",
    "G.eval() # eval mode\n",
    "# generated samples\n",
    "rand_images = G(rand_z)\n",
    "\n",
    "# 0 indicates the first set of samples in the passed in list\n",
    "# and we only have one batch of samples, here\n",
    "view_samples(0, [rand_images])"
   ]
  },
  {
   "cell_type": "code",
   "execution_count": null,
   "metadata": {},
   "outputs": [],
   "source": []
  }
 ],
 "metadata": {
  "kernelspec": {
   "display_name": "Python 3",
   "language": "python",
   "name": "python3"
  },
  "language_info": {
   "codemirror_mode": {
    "name": "ipython",
    "version": 3
   },
   "file_extension": ".py",
   "mimetype": "text/x-python",
   "name": "python",
   "nbconvert_exporter": "python",
   "pygments_lexer": "ipython3",
   "version": "3.6.3"
  }
 },
 "nbformat": 4,
 "nbformat_minor": 2
}
